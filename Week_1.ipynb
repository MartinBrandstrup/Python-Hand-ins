{
 "cells": [
  {
   "cell_type": "markdown",
   "metadata": {},
   "source": [
    "# Week 1 handin"
   ]
  },
  {
   "cell_type": "markdown",
   "metadata": {},
   "source": [
    "1. Create 5 list comprehensions to solve the following 5 problems:\n",
    "  1. Iterate a list of names to return a list of the names starting with H\n",
    "  2. In one line create a list of the numbers 1-100 to the power of 3\n",
    "  3. Iterate a list of names to create a list of tuples where the tuples first value is the length of the name and the second is the name\n",
    "  4. Iterate over each character in a string and get only those that are nummeric\n",
    "  5. Using only a list comprehension wrapped in set() get all possible combination from throwing 2 dice (hint use 2 for loops in a single list comprehension)\n",
    "\n",
    "2. Create 2 dictionary comprehensions to solve the following:\n",
    "  1. Iterate a list of names and create a dictionary where key is the name and value is the length of the name\n",
    "  2. Iterate a list of numbers and create a dictionary with {key:value} being {number:squareroot_of_number}\n",
    "\n",
    "3. Extra assignment (This one goes beyond what is covered in the course notebooks. So only do it if you want an extra challenge).\n",
    "  - Progammatically using loops create a small program to produce a dictionary with all the 2 dice throw combinations as keys and their likelyhood in percent as values"
   ]
  },
  {
   "cell_type": "markdown",
   "metadata": {},
   "source": [
    "## 02 Status\n",
    "Haven't done the extra assignment. The rest are done. I feel I could have saved time had I started with 1.E and worked my way up though... seems the first assignments are easier after you completely understand comprehension (ironic name there)."
   ]
  },
  {
   "cell_type": "markdown",
   "metadata": {},
   "source": [
    "## 03 Solution part 1"
   ]
  },
  {
   "cell_type": "code",
   "execution_count": 16,
   "metadata": {},
   "outputs": [
    {
     "name": "stdout",
     "output_type": "stream",
     "text": [
      "Original list of names: \n",
      "['Hans', 'Emil', 'Karl', 'Else', 'Emma', 'Hanne', 'Flemming', 'Hemming']\n",
      "\n",
      "List of names with 'H': \n",
      "['Hans', 'Hanne', 'Hemming']\n",
      "\n",
      "New idea: \n",
      "['Hans', 'Hanne', 'Hemming']\n"
     ]
    }
   ],
   "source": [
    "# 1.A Iterate a list of names to return a list of the names starting with H\n",
    "\n",
    "name_list = [\"Hans\", \"Emil\", \"Karl\", \"Else\", \"Emma\", \"Hanne\", \"Flemming\", \"Hemming\"]\n",
    "\n",
    "name_list_h = []\n",
    "\n",
    "for i in range(len(name_list)):\n",
    "     if name_list[i].startswith(\"H\"):\n",
    "            name_list_h.append(name_list[i])\n",
    "            \n",
    "# after doing the other problems, I got a new idea using comprehension:\n",
    "name_list_new_try = [name for name in name_list if name.startswith(\"H\")]\n",
    "\n",
    "print(\"Original list of names: \")\n",
    "print(name_list)\n",
    "print(\"\\nList of names with 'H': \")\n",
    "print(name_list_h)\n",
    "print(\"\\nNew idea: \")\n",
    "print(name_list_new_try)"
   ]
  },
  {
   "cell_type": "code",
   "execution_count": 14,
   "metadata": {},
   "outputs": [
    {
     "name": "stdout",
     "output_type": "stream",
     "text": [
      "[1, 4, 9, 16, 25, 36, 49, 64, 81, 100, 121, 144, 169, 196, 225, 256, 289, 324, 361, 400, 441, 484, 529, 576, 625, 676, 729, 784, 841, 900, 961, 1024, 1089, 1156, 1225, 1296, 1369, 1444, 1521, 1600, 1681, 1764, 1849, 1936, 2025, 2116, 2209, 2304, 2401, 2500, 2601, 2704, 2809, 2916, 3025, 3136, 3249, 3364, 3481, 3600, 3721, 3844, 3969, 4096, 4225, 4356, 4489, 4624, 4761, 4900, 5041, 5184, 5329, 5476, 5625, 5776, 5929, 6084, 6241, 6400, 6561, 6724, 6889, 7056, 7225, 7396, 7569, 7744, 7921, 8100, 8281, 8464, 8649, 8836, 9025, 9216, 9409, 9604, 9801, 10000]\n"
     ]
    }
   ],
   "source": [
    "# 1.B In one line create a list of the numbers 1-100 to the power of 3\n",
    "\n",
    "numbers = [i**2 for i in range(1,101)]\n",
    "print(numbers)"
   ]
  },
  {
   "cell_type": "code",
   "execution_count": 18,
   "metadata": {},
   "outputs": [
    {
     "name": "stdout",
     "output_type": "stream",
     "text": [
      "[(4, 'Hans'), (4, 'Emil'), (4, 'Karl'), (4, 'Else'), (4, 'Emma'), (5, 'Hanne'), (8, 'Flemming'), (7, 'Hemming')]\n"
     ]
    }
   ],
   "source": [
    "# 1.C Iterate a list of names to create a list of tuples where the tuples first value is the \n",
    "#     length of the name and the second is the name\n",
    "\n",
    "tuple_list = [(len(name), name) for name in name_list]\n",
    "\n",
    "print(tuple_list)"
   ]
  },
  {
   "cell_type": "code",
   "execution_count": 20,
   "metadata": {},
   "outputs": [
    {
     "name": "stdout",
     "output_type": "stream",
     "text": [
      "['1', '7', '3', '6']\n"
     ]
    }
   ],
   "source": [
    "# 1.D Iterate over each character in a string and get only those that are nummeric\n",
    "\n",
    "# nice link I found: https://www.random.org/strings/\n",
    "\n",
    "random_string = \"17YnC3YI6A\"\n",
    "\n",
    "number_string = [character for character in random_string if character.isdigit()]\n",
    "\n",
    "print(number_string)"
   ]
  },
  {
   "cell_type": "code",
   "execution_count": 28,
   "metadata": {},
   "outputs": [
    {
     "name": "stdout",
     "output_type": "stream",
     "text": [
      "{'5,5', '4,1', '5,1', '2,5', '2,3', '5,6', '2,1', '3,6', '2,4', '5,4', '4,3', '6,5', '4,2', '4,5', '6,6', '2,2', '1,6', '1,5', '6,2', '3,1', '5,3', '5,2', '1,1', '4,6', '1,3', '3,5', '6,1', '3,3', '6,4', '6,3', '4,4', '3,4', '2,6', '1,2', '1,4', '3,2'}\n"
     ]
    }
   ],
   "source": [
    "# 1.E Using only a list comprehension wrapped in set() get all possible combination from throwing \n",
    "# 2 dice (hint use 2 for loops in a single list comprehension)\n",
    "\n",
    "dice = [\"1\",\"2\",\"3\",\"4\",\"5\",\"6\"]\n",
    "\n",
    "dice_combos = set([d1 + \",\" + d2 for d1 in dice for d2 in dice])\n",
    "\n",
    "print(dice_combos)"
   ]
  },
  {
   "cell_type": "markdown",
   "metadata": {},
   "source": [
    "## 04 Solution part 2"
   ]
  },
  {
   "cell_type": "code",
   "execution_count": 29,
   "metadata": {},
   "outputs": [
    {
     "name": "stdout",
     "output_type": "stream",
     "text": [
      "{'Hans': 4, 'Emil': 4, 'Karl': 4, 'Else': 4, 'Emma': 4, 'Hanne': 5, 'Flemming': 8, 'Hemming': 7}\n"
     ]
    }
   ],
   "source": [
    "# 2.A Iterate a list of names and create a dictionary where key is the name and value is the length of the name\n",
    "\n",
    "dictionary_name = {name:len(name) for name in name_list}\n",
    "\n",
    "print(dictionary_name)"
   ]
  },
  {
   "cell_type": "code",
   "execution_count": 33,
   "metadata": {},
   "outputs": [
    {
     "name": "stdout",
     "output_type": "stream",
     "text": [
      "{1: 1.0, 2: 1.4142135623730951, 3: 1.7320508075688772, 4: 2.0, 5: 2.23606797749979, 6: 2.449489742783178, 7: 2.6457513110645907, 8: 2.8284271247461903, 9: 3.0, 10: 3.1622776601683795, 11: 3.3166247903554, 12: 3.4641016151377544, 13: 3.605551275463989, 14: 3.7416573867739413, 15: 3.872983346207417, 16: 4.0, 17: 4.123105625617661, 18: 4.242640687119285, 19: 4.358898943540674, 20: 4.47213595499958, 21: 4.58257569495584, 22: 4.69041575982343, 23: 4.795831523312719, 24: 4.898979485566356, 25: 5.0, 26: 5.0990195135927845, 27: 5.196152422706632, 28: 5.291502622129181, 29: 5.385164807134504, 30: 5.477225575051661, 31: 5.5677643628300215, 32: 5.656854249492381, 33: 5.744562646538029, 34: 5.830951894845301, 35: 5.916079783099616, 36: 6.0, 37: 6.082762530298219, 38: 6.164414002968976, 39: 6.244997998398398, 40: 6.324555320336759, 41: 6.4031242374328485, 42: 6.48074069840786, 43: 6.557438524302, 44: 6.6332495807108, 45: 6.708203932499369, 46: 6.782329983125268, 47: 6.855654600401044, 48: 6.928203230275509, 49: 7.0, 50: 7.0710678118654755, 51: 7.14142842854285, 52: 7.211102550927978, 53: 7.280109889280518, 54: 7.3484692283495345, 55: 7.416198487095663, 56: 7.483314773547883, 57: 7.54983443527075, 58: 7.615773105863909, 59: 7.681145747868608, 60: 7.745966692414834, 61: 7.810249675906654, 62: 7.874007874011811, 63: 7.937253933193772, 64: 8.0, 65: 8.06225774829855, 66: 8.12403840463596, 67: 8.18535277187245, 68: 8.246211251235321, 69: 8.306623862918075, 70: 8.366600265340756, 71: 8.426149773176359, 72: 8.48528137423857, 73: 8.54400374531753, 74: 8.602325267042627, 75: 8.660254037844387, 76: 8.717797887081348, 77: 8.774964387392123, 78: 8.831760866327848, 79: 8.888194417315589, 80: 8.94427190999916, 81: 9.0, 82: 9.055385138137417, 83: 9.1104335791443, 84: 9.16515138991168, 85: 9.219544457292887, 86: 9.273618495495704, 87: 9.327379053088816, 88: 9.38083151964686, 89: 9.433981132056603, 90: 9.486832980505138, 91: 9.539392014169456, 92: 9.591663046625438, 93: 9.643650760992955, 94: 9.695359714832659, 95: 9.746794344808963, 96: 9.797958971132712, 97: 9.848857801796104, 98: 9.899494936611665, 99: 9.9498743710662, 100: 10.0}\n"
     ]
    }
   ],
   "source": [
    "# 2.B Iterate a list of numbers and create a dictionary with {key:value} being {number:squareroot_of_number}\n",
    "\n",
    "number_list = list(range(1,101))\n",
    "\n",
    "dictionary_number = {number:number**(1/2) for number in number_list}\n",
    "\n",
    "print(dictionary_number)"
   ]
  },
  {
   "cell_type": "code",
   "execution_count": null,
   "metadata": {},
   "outputs": [],
   "source": []
  }
 ],
 "metadata": {
  "kernelspec": {
   "display_name": "Python 3",
   "language": "python",
   "name": "python3"
  },
  "language_info": {
   "codemirror_mode": {
    "name": "ipython",
    "version": 3
   },
   "file_extension": ".py",
   "mimetype": "text/x-python",
   "name": "python",
   "nbconvert_exporter": "python",
   "pygments_lexer": "ipython3",
   "version": "3.7.6"
  }
 },
 "nbformat": 4,
 "nbformat_minor": 4
}
